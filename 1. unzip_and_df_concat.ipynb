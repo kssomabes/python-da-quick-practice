{
 "cells": [
  {
   "cell_type": "code",
   "execution_count": 7,
   "metadata": {},
   "outputs": [],
   "source": [
    "import math\n",
    "import collections\n",
    "import numpy as np\n",
    "import pandas as pd\n",
    "import matplotlib.pyplot as pp\n",
    "import zipfile\n",
    "\n",
    "# To display the matplotlib graphs next to the code\n",
    "%matplotlib inline\n",
    "\n",
    "# Lazy install libraries in-line using !pip install <library>"
   ]
  },
  {
   "cell_type": "code",
   "execution_count": 11,
   "metadata": {},
   "outputs": [],
   "source": [
    "# Unzipping a file\n",
    "\n",
    "file_path = 'data/names.zip'\n",
    "zipfile.ZipFile(file_path).extractall(path='data/')"
   ]
  },
  {
   "cell_type": "code",
   "execution_count": null,
   "metadata": {},
   "outputs": [],
   "source": [
    "# Curious at what the new directory looks like?"
   ]
  },
  {
   "cell_type": "code",
   "execution_count": 32,
   "metadata": {},
   "outputs": [
    {
     "name": "stdout",
     "output_type": "stream",
     "text": [
      "NationalReadMe.pdf  yob1914.txt         yob1949.txt         yob1984.txt\n",
      "yob1880.txt         yob1915.txt         yob1950.txt         yob1985.txt\n",
      "yob1881.txt         yob1916.txt         yob1951.txt         yob1986.txt\n",
      "yob1882.txt         yob1917.txt         yob1952.txt         yob1987.txt\n",
      "yob1883.txt         yob1918.txt         yob1953.txt         yob1988.txt\n",
      "yob1884.txt         yob1919.txt         yob1954.txt         yob1989.txt\n",
      "yob1885.txt         yob1920.txt         yob1955.txt         yob1990.txt\n",
      "yob1886.txt         yob1921.txt         yob1956.txt         yob1991.txt\n",
      "yob1887.txt         yob1922.txt         yob1957.txt         yob1992.txt\n",
      "yob1888.txt         yob1923.txt         yob1958.txt         yob1993.txt\n",
      "yob1889.txt         yob1924.txt         yob1959.txt         yob1994.txt\n",
      "yob1890.txt         yob1925.txt         yob1960.txt         yob1995.txt\n",
      "yob1891.txt         yob1926.txt         yob1961.txt         yob1996.txt\n",
      "yob1892.txt         yob1927.txt         yob1962.txt         yob1997.txt\n",
      "yob1893.txt         yob1928.txt         yob1963.txt         yob1998.txt\n",
      "yob1894.txt         yob1929.txt         yob1964.txt         yob1999.txt\n",
      "yob1895.txt         yob1930.txt         yob1965.txt         yob2000.txt\n",
      "yob1896.txt         yob1931.txt         yob1966.txt         yob2001.txt\n",
      "yob1897.txt         yob1932.txt         yob1967.txt         yob2002.txt\n",
      "yob1898.txt         yob1933.txt         yob1968.txt         yob2003.txt\n",
      "yob1899.txt         yob1934.txt         yob1969.txt         yob2004.txt\n",
      "yob1900.txt         yob1935.txt         yob1970.txt         yob2005.txt\n",
      "yob1901.txt         yob1936.txt         yob1971.txt         yob2006.txt\n",
      "yob1902.txt         yob1937.txt         yob1972.txt         yob2007.txt\n",
      "yob1903.txt         yob1938.txt         yob1973.txt         yob2008.txt\n",
      "yob1904.txt         yob1939.txt         yob1974.txt         yob2009.txt\n",
      "yob1905.txt         yob1940.txt         yob1975.txt         yob2010.txt\n",
      "yob1906.txt         yob1941.txt         yob1976.txt         yob2011.txt\n",
      "yob1907.txt         yob1942.txt         yob1977.txt         yob2012.txt\n",
      "yob1908.txt         yob1943.txt         yob1978.txt         yob2013.txt\n",
      "yob1909.txt         yob1944.txt         yob1979.txt         yob2014.txt\n",
      "yob1910.txt         yob1945.txt         yob1980.txt         yob2015.txt\n",
      "yob1911.txt         yob1946.txt         yob1981.txt         yob2016.txt\n",
      "yob1912.txt         yob1947.txt         yob1982.txt         yob2017.txt\n",
      "yob1913.txt         yob1948.txt         yob1983.txt         yob2018.txt\n"
     ]
    }
   ],
   "source": [
    "ls data/names"
   ]
  },
  {
   "cell_type": "code",
   "execution_count": 23,
   "metadata": {},
   "outputs": [
    {
     "data": {
      "text/plain": [
       "['Mary,F,7065\\n',\n",
       " 'Anna,F,2604\\n',\n",
       " 'Emma,F,2003\\n',\n",
       " 'Elizabeth,F,1939\\n',\n",
       " 'Minnie,F,1746\\n',\n",
       " 'Margaret,F,1578\\n',\n",
       " 'Ida,F,1472\\n',\n",
       " 'Alice,F,1414\\n',\n",
       " 'Bertha,F,1320\\n',\n",
       " 'Sarah,F,1288\\n']"
      ]
     },
     "execution_count": 23,
     "metadata": {},
     "output_type": "execute_result"
    }
   ],
   "source": [
    "# Quick peek at one file (up to 10 lines)\n",
    "sample_file = 'data/names/yob1880.txt'\n",
    "open(sample_file).readlines()[:10]"
   ]
  },
  {
   "cell_type": "code",
   "execution_count": 24,
   "metadata": {},
   "outputs": [
    {
     "data": {
      "text/html": [
       "<div>\n",
       "<style scoped>\n",
       "    .dataframe tbody tr th:only-of-type {\n",
       "        vertical-align: middle;\n",
       "    }\n",
       "\n",
       "    .dataframe tbody tr th {\n",
       "        vertical-align: top;\n",
       "    }\n",
       "\n",
       "    .dataframe thead th {\n",
       "        text-align: right;\n",
       "    }\n",
       "</style>\n",
       "<table border=\"1\" class=\"dataframe\">\n",
       "  <thead>\n",
       "    <tr style=\"text-align: right;\">\n",
       "      <th></th>\n",
       "      <th>Mary</th>\n",
       "      <th>F</th>\n",
       "      <th>7065</th>\n",
       "    </tr>\n",
       "  </thead>\n",
       "  <tbody>\n",
       "    <tr>\n",
       "      <th>0</th>\n",
       "      <td>Anna</td>\n",
       "      <td>F</td>\n",
       "      <td>2604</td>\n",
       "    </tr>\n",
       "    <tr>\n",
       "      <th>1</th>\n",
       "      <td>Emma</td>\n",
       "      <td>F</td>\n",
       "      <td>2003</td>\n",
       "    </tr>\n",
       "    <tr>\n",
       "      <th>2</th>\n",
       "      <td>Elizabeth</td>\n",
       "      <td>F</td>\n",
       "      <td>1939</td>\n",
       "    </tr>\n",
       "    <tr>\n",
       "      <th>3</th>\n",
       "      <td>Minnie</td>\n",
       "      <td>F</td>\n",
       "      <td>1746</td>\n",
       "    </tr>\n",
       "    <tr>\n",
       "      <th>4</th>\n",
       "      <td>Margaret</td>\n",
       "      <td>F</td>\n",
       "      <td>1578</td>\n",
       "    </tr>\n",
       "    <tr>\n",
       "      <th>...</th>\n",
       "      <td>...</td>\n",
       "      <td>...</td>\n",
       "      <td>...</td>\n",
       "    </tr>\n",
       "    <tr>\n",
       "      <th>1994</th>\n",
       "      <td>Woodie</td>\n",
       "      <td>M</td>\n",
       "      <td>5</td>\n",
       "    </tr>\n",
       "    <tr>\n",
       "      <th>1995</th>\n",
       "      <td>Worthy</td>\n",
       "      <td>M</td>\n",
       "      <td>5</td>\n",
       "    </tr>\n",
       "    <tr>\n",
       "      <th>1996</th>\n",
       "      <td>Wright</td>\n",
       "      <td>M</td>\n",
       "      <td>5</td>\n",
       "    </tr>\n",
       "    <tr>\n",
       "      <th>1997</th>\n",
       "      <td>York</td>\n",
       "      <td>M</td>\n",
       "      <td>5</td>\n",
       "    </tr>\n",
       "    <tr>\n",
       "      <th>1998</th>\n",
       "      <td>Zachariah</td>\n",
       "      <td>M</td>\n",
       "      <td>5</td>\n",
       "    </tr>\n",
       "  </tbody>\n",
       "</table>\n",
       "<p>1999 rows × 3 columns</p>\n",
       "</div>"
      ],
      "text/plain": [
       "           Mary  F  7065\n",
       "0          Anna  F  2604\n",
       "1          Emma  F  2003\n",
       "2     Elizabeth  F  1939\n",
       "3        Minnie  F  1746\n",
       "4      Margaret  F  1578\n",
       "...         ... ..   ...\n",
       "1994     Woodie  M     5\n",
       "1995     Worthy  M     5\n",
       "1996     Wright  M     5\n",
       "1997       York  M     5\n",
       "1998  Zachariah  M     5\n",
       "\n",
       "[1999 rows x 3 columns]"
      ]
     },
     "execution_count": 24,
     "metadata": {},
     "output_type": "execute_result"
    }
   ],
   "source": [
    "# But parsing that is quite difficult, hmm, how about creating a Pandas dataframe and reading it as csv?\n",
    "pd.read_csv(sample_file)"
   ]
  },
  {
   "cell_type": "code",
   "execution_count": 41,
   "metadata": {},
   "outputs": [
    {
     "data": {
      "text/html": [
       "<div>\n",
       "<style scoped>\n",
       "    .dataframe tbody tr th:only-of-type {\n",
       "        vertical-align: middle;\n",
       "    }\n",
       "\n",
       "    .dataframe tbody tr th {\n",
       "        vertical-align: top;\n",
       "    }\n",
       "\n",
       "    .dataframe thead th {\n",
       "        text-align: right;\n",
       "    }\n",
       "</style>\n",
       "<table border=\"1\" class=\"dataframe\">\n",
       "  <thead>\n",
       "    <tr style=\"text-align: right;\">\n",
       "      <th></th>\n",
       "      <th>name</th>\n",
       "      <th>sex</th>\n",
       "      <th>count</th>\n",
       "    </tr>\n",
       "  </thead>\n",
       "  <tbody>\n",
       "    <tr>\n",
       "      <th>0</th>\n",
       "      <td>Mary</td>\n",
       "      <td>F</td>\n",
       "      <td>7065</td>\n",
       "    </tr>\n",
       "    <tr>\n",
       "      <th>1</th>\n",
       "      <td>Anna</td>\n",
       "      <td>F</td>\n",
       "      <td>2604</td>\n",
       "    </tr>\n",
       "    <tr>\n",
       "      <th>2</th>\n",
       "      <td>Emma</td>\n",
       "      <td>F</td>\n",
       "      <td>2003</td>\n",
       "    </tr>\n",
       "    <tr>\n",
       "      <th>3</th>\n",
       "      <td>Elizabeth</td>\n",
       "      <td>F</td>\n",
       "      <td>1939</td>\n",
       "    </tr>\n",
       "    <tr>\n",
       "      <th>4</th>\n",
       "      <td>Minnie</td>\n",
       "      <td>F</td>\n",
       "      <td>1746</td>\n",
       "    </tr>\n",
       "    <tr>\n",
       "      <th>...</th>\n",
       "      <td>...</td>\n",
       "      <td>...</td>\n",
       "      <td>...</td>\n",
       "    </tr>\n",
       "    <tr>\n",
       "      <th>1995</th>\n",
       "      <td>Woodie</td>\n",
       "      <td>M</td>\n",
       "      <td>5</td>\n",
       "    </tr>\n",
       "    <tr>\n",
       "      <th>1996</th>\n",
       "      <td>Worthy</td>\n",
       "      <td>M</td>\n",
       "      <td>5</td>\n",
       "    </tr>\n",
       "    <tr>\n",
       "      <th>1997</th>\n",
       "      <td>Wright</td>\n",
       "      <td>M</td>\n",
       "      <td>5</td>\n",
       "    </tr>\n",
       "    <tr>\n",
       "      <th>1998</th>\n",
       "      <td>York</td>\n",
       "      <td>M</td>\n",
       "      <td>5</td>\n",
       "    </tr>\n",
       "    <tr>\n",
       "      <th>1999</th>\n",
       "      <td>Zachariah</td>\n",
       "      <td>M</td>\n",
       "      <td>5</td>\n",
       "    </tr>\n",
       "  </tbody>\n",
       "</table>\n",
       "<p>2000 rows × 3 columns</p>\n",
       "</div>"
      ],
      "text/plain": [
       "           name sex  count\n",
       "0          Mary   F   7065\n",
       "1          Anna   F   2604\n",
       "2          Emma   F   2003\n",
       "3     Elizabeth   F   1939\n",
       "4        Minnie   F   1746\n",
       "...         ...  ..    ...\n",
       "1995     Woodie   M      5\n",
       "1996     Worthy   M      5\n",
       "1997     Wright   M      5\n",
       "1998       York   M      5\n",
       "1999  Zachariah   M      5\n",
       "\n",
       "[2000 rows x 3 columns]"
      ]
     },
     "execution_count": 41,
     "metadata": {},
     "output_type": "execute_result"
    }
   ],
   "source": [
    "# That looks quite okay except the first line was assumed as a header row.\n",
    "# We can define the labels too using names parameter for read_csv.\n",
    "columns = ['name', 'sex', 'count']\n",
    "pd.read_csv(sample_file, names=columns)"
   ]
  },
  {
   "cell_type": "code",
   "execution_count": 42,
   "metadata": {},
   "outputs": [
    {
     "ename": "SyntaxError",
     "evalue": "unexpected EOF while parsing (1754436534.py, line 6)",
     "output_type": "error",
     "traceback": [
      "\u001b[0;36m  Input \u001b[0;32mIn [42]\u001b[0;36m\u001b[0m\n\u001b[0;31m    pd.read_csv(sample_file, names=columns.assign(year=1880)\u001b[0m\n\u001b[0m                                                            ^\u001b[0m\n\u001b[0;31mSyntaxError\u001b[0m\u001b[0;31m:\u001b[0m unexpected EOF while parsing\n"
     ]
    }
   ],
   "source": [
    "# Now we need to read ALL of those in data/names\n",
    "\n",
    "# But before that, we need to define a method that would assign the corresponding year from each files\n",
    "\n",
    "# We can do it by modifying that data frame and creating a new column\n",
    "pd.read_csv(sample_file, names=columns.assign(year=1880)"
   ]
  },
  {
   "cell_type": "markdown",
   "metadata": {},
   "source": []
  },
  {
   "cell_type": "code",
   "execution_count": 44,
   "metadata": {},
   "outputs": [],
   "source": [
    "# The year was hardcoded, now how do we do it dynamically?\n",
    "\n",
    "# Observing the files, they are named like this: yob <year> . txt\n",
    "# And the years are 1880-2018\n",
    "# So we can use the year in that format\n",
    "\n",
    "# To read and store eveything into one dataframe, we will concat many dataframes together:\n",
    "\n",
    "baby_names = pd.concat(pd.read_csv(f'data/names/yob{year}.txt', names=columns).assign(year=year) \n",
    "            for year in range(1880, 2019))"
   ]
  },
  {
   "cell_type": "code",
   "execution_count": 45,
   "metadata": {},
   "outputs": [
    {
     "name": "stdout",
     "output_type": "stream",
     "text": [
      "<class 'pandas.core.frame.DataFrame'>\n",
      "Int64Index: 1957046 entries, 0 to 32032\n",
      "Data columns (total 4 columns):\n",
      " #   Column  Dtype \n",
      "---  ------  ----- \n",
      " 0   name    object\n",
      " 1   sex     object\n",
      " 2   count   int64 \n",
      " 3   year    int64 \n",
      "dtypes: int64(2), object(2)\n",
      "memory usage: 74.7+ MB\n"
     ]
    }
   ],
   "source": [
    "baby_names.info()"
   ]
  },
  {
   "cell_type": "code",
   "execution_count": 48,
   "metadata": {},
   "outputs": [
    {
     "data": {
      "text/plain": [
       "(1880, 2018)"
      ]
     },
     "execution_count": 48,
     "metadata": {},
     "output_type": "execute_result"
    }
   ],
   "source": [
    "# We did get all the data \n",
    "baby_names.year.min(), baby_names.year.max()"
   ]
  },
  {
   "cell_type": "code",
   "execution_count": 49,
   "metadata": {},
   "outputs": [],
   "source": [
    "# Saves to a new CSV file\n",
    "\n",
    "# baby_names.to_csv('baby_names_all.csv', index=False)\n",
    "\n",
    "# To compress file, save with .gz\n",
    "\n",
    "baby_names.to_csv('baby_names_all.csv.gz', index=False)"
   ]
  }
 ],
 "metadata": {
  "interpreter": {
   "hash": "77218a5b94fc610d5298e795236848bf1ccdb1bc75836e3eb62890cfde63ef28"
  },
  "kernelspec": {
   "display_name": "Python 3.9.12 ('env': venv)",
   "language": "python",
   "name": "python3"
  },
  "language_info": {
   "codemirror_mode": {
    "name": "ipython",
    "version": 3
   },
   "file_extension": ".py",
   "mimetype": "text/x-python",
   "name": "python",
   "nbconvert_exporter": "python",
   "pygments_lexer": "ipython3",
   "version": "3.9.13"
  },
  "orig_nbformat": 4
 },
 "nbformat": 4,
 "nbformat_minor": 2
}
